{
 "cells": [
  {
   "cell_type": "markdown",
   "metadata": {},
   "source": [
    "This example creates a CAD geometry, converts it to a faceted neutronics geometry and obtains the trtium breeding ration (TBR)"
   ]
  },
  {
   "cell_type": "markdown",
   "metadata": {},
   "source": [
    "Imports all the packages needed for the model creation and simulation"
   ]
  },
  {
   "cell_type": "code",
   "execution_count": null,
   "metadata": {},
   "outputs": [],
   "source": [
    "import os\n",
    "# more details on this package avaialbe from https://github.com/ukaea/paramak\n",
    "import paramak\n",
    "# more details on this package https://github.com/ukaea/neutronics_material_maker/\n",
    "from neutronics_material_maker import Material\n",
    "# more details on this neutronics code https://github.com/openmc-dev/openmc\n",
    "import openmc"
   ]
  },
  {
   "cell_type": "markdown",
   "metadata": {},
   "source": [
    "Creates a simple ring shaped geoemtry"
   ]
  },
  {
   "cell_type": "code",
   "execution_count": null,
   "metadata": {},
   "outputs": [],
   "source": [
    "\n",
    "width=500\n",
    "\n",
    "# creates a parametric shape\n",
    "pf_coil = paramak.RotateStraightShape(\n",
    "    points=[\n",
    "        (width, width),\n",
    "        (550, width),\n",
    "        (550, 550),\n",
    "        (500, 550)\n",
    "    ],\n",
    "    stp_filename = 'pf_coil.stp',\n",
    "    material_tag = 'pf_coil_material'\n",
    ")\n",
    "\n",
    "pf_coil.solid"
   ]
  },
  {
   "cell_type": "markdown",
   "metadata": {},
   "source": [
    "Creates a simple blanket geometry"
   ]
  },
  {
   "cell_type": "code",
   "execution_count": null,
   "metadata": {},
   "outputs": [],
   "source": [
    "# creates another parametric shape\n",
    "blanket = paramak.RotateMixedShape(\n",
    "    points=[\n",
    "        (538, 305, \"straight\"),\n",
    "        (538, -305, \"straight\"),\n",
    "        (322, -305, \"spline\"),\n",
    "        (470, 0, \"spline\"),\n",
    "        (322, 305, \"straight\")\n",
    "    ],\n",
    "    rotation_angle=40,\n",
    "    azimuth_placement_angle=[0, 45, 90, 135, 180, 225, 270, 315],\n",
    "    stp_filename = 'blanket.stp',\n",
    "    material_tag = 'blanket_material'\n",
    ")\n",
    "blanket.solid"
   ]
  },
  {
   "cell_type": "markdown",
   "metadata": {},
   "source": [
    "Creates a reactor from the two geometries previously made"
   ]
  },
  {
   "cell_type": "code",
   "execution_count": null,
   "metadata": {
    "scrolled": true
   },
   "outputs": [],
   "source": [
    "# creates a reactor object from the two components\n",
    "my_reactor = paramak.Reactor([blanket, pf_coil])\n",
    "\n",
    "my_reactor.solid"
   ]
  },
  {
   "cell_type": "markdown",
   "metadata": {},
   "source": [
    "exports neutronics description and stp files"
   ]
  },
  {
   "cell_type": "markdown",
   "metadata": {},
   "source": [
    "my_reactor.export_neutronics_description()\n",
    "my_reactor.export_stp()"
   ]
  },
  {
   "cell_type": "markdown",
   "metadata": {},
   "source": [
    "Runs Trelis which converts the Stp files to a faceted neutronics geometry (DAGMC geoemtry) with linkage between materials and volumes"
   ]
  },
  {
   "cell_type": "code",
   "execution_count": null,
   "metadata": {},
   "outputs": [],
   "source": [
    "os.system('trelis -batch -nographics make_faceteted_neutronics_model.py')\n",
    "\n",
    "os.system('make_watertight dagmc_notwatertight.h5m -o dagmc.h5m')"
   ]
  },
  {
   "cell_type": "markdown",
   "metadata": {},
   "source": [
    "Creates an empty geometry that is later filled by the DAGMC geoemtry"
   ]
  },
  {
   "cell_type": "code",
   "execution_count": null,
   "metadata": {},
   "outputs": [],
   "source": [
    "universe = openmc.Universe()\n",
    "geom = openmc.Geometry(universe)"
   ]
  },
  {
   "cell_type": "markdown",
   "metadata": {},
   "source": [
    "Creates some materials to use in the simulation, this uses the neutronics_material_maker package that can be installed with pip install neutronics_material_maker"
   ]
  },
  {
   "cell_type": "code",
   "execution_count": null,
   "metadata": {},
   "outputs": [],
   "source": [
    "mat1 = Material(material_name='Li4SiO4',\n",
    "                material_tag='blanket_material').openmc_material\n",
    "\n",
    "mat2 = Material(material_name='copper',\n",
    "                material_tag='pf_coil_material').openmc_material\n",
    "\n",
    "mats = openmc.Materials([mat1, mat2])"
   ]
  },
  {
   "cell_type": "markdown",
   "metadata": {},
   "source": [
    "Sets the number of particles to simulate and the .dagmc part loads the neutronics geometry into the empty universe previously created"
   ]
  },
  {
   "cell_type": "code",
   "execution_count": null,
   "metadata": {},
   "outputs": [],
   "source": [
    "settings = openmc.Settings()\n",
    "settings.batches = 10\n",
    "settings.inactive = 0\n",
    "settings.particles = 100\n",
    "settings.run_mode = 'fixed source'\n",
    "settings.dagmc = True "
   ]
  },
  {
   "cell_type": "markdown",
   "metadata": {},
   "source": [
    "Makes a simple point neutron source with 14MeV"
   ]
  },
  {
   "cell_type": "code",
   "execution_count": null,
   "metadata": {},
   "outputs": [],
   "source": [
    "source = openmc.Source()\n",
    "source.space = openmc.stats.Point((0, 0, 0))\n",
    "source.angle = openmc.stats.Isotropic()\n",
    "source.energy = openmc.stats.Discrete([14e6], [1])\n",
    "settings.source = source"
   ]
  },
  {
   "cell_type": "markdown",
   "metadata": {},
   "source": [
    "Tells OpenMC to count (tally) neutrons that create tritium atoms"
   ]
  },
  {
   "cell_type": "code",
   "execution_count": null,
   "metadata": {},
   "outputs": [],
   "source": [
    "tallies = openmc.Tallies()\n",
    "tbr_tally = openmc.Tally(name='TBR')\n",
    "tbr_tally.scores = ['(n,Xt)'] # where X is a wild card\n",
    "tallies.append(tbr_tally)"
   ]
  },
  {
   "cell_type": "markdown",
   "metadata": {},
   "source": [
    "Combines the geometry, materials, settings and tallies to make the openmc model and runs the simulation"
   ]
  },
  {
   "cell_type": "code",
   "execution_count": null,
   "metadata": {},
   "outputs": [],
   "source": [
    "model = openmc.model.Model(geom, mats, settings, tallies)\n",
    "\n",
    "output_filename = model.run()"
   ]
  },
  {
   "cell_type": "markdown",
   "metadata": {},
   "source": [
    "Loads up the output file generated and accesses the TBR value obtained during simulation"
   ]
  },
  {
   "cell_type": "code",
   "execution_count": null,
   "metadata": {},
   "outputs": [],
   "source": [
    "# open the results file\n",
    "sp = openmc.StatePoint(output_filename)\n",
    "\n",
    "# access the tally\n",
    "tbr_tally = sp.get_tally(name='TBR')\n",
    "df = tbr_tally.get_pandas_dataframe()\n",
    "tbr_tally_result = df['mean'].sum()\n",
    "\n",
    "# print result\n",
    "print('The tritium breeding ratio was found, TBR = ', tbr_tally_result)"
   ]
  }
 ],
 "metadata": {
  "kernelspec": {
   "display_name": "Python 3",
   "language": "python",
   "name": "python3"
  },
  "language_info": {
   "codemirror_mode": {
    "name": "ipython",
    "version": 3
   },
   "file_extension": ".py",
   "mimetype": "text/x-python",
   "name": "python",
   "nbconvert_exporter": "python",
   "pygments_lexer": "ipython3",
   "version": "3.7.3"
  }
 },
 "nbformat": 4,
 "nbformat_minor": 4
}
