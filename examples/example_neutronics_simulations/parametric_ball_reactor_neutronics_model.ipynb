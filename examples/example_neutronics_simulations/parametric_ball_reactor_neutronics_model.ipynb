{
 "cells": [
  {
   "cell_type": "markdown",
   "metadata": {},
   "source": [
    "Example which creates a simple neutronics model using a parametric reactor"
   ]
  },
  {
   "cell_type": "code",
   "execution_count": null,
   "metadata": {},
   "outputs": [],
   "source": [
    "import os\n",
    "\n",
    "import openmc\n",
    "from neutronics_material_maker import Material\n",
    "\n",
    "import paramak\n"
   ]
  },
  {
   "cell_type": "markdown",
   "metadata": {},
   "source": [
    "Makes a reactor object from using theparametric\n",
    "BallReactor. Exports the neutronics description\n",
    "and stp files for the reactor"
   ]
  },
  {
   "cell_type": "code",
   "execution_count": null,
   "metadata": {},
   "outputs": [],
   "source": [
    "my_reactor = paramak.BallReactor(\n",
    "                                inner_bore_radial_thickness=50,\n",
    "                                inboard_tf_leg_radial_thickness = 200,\n",
    "                                center_column_shield_radial_thickness= 50,\n",
    "                                divertor_radial_thickness=50,\n",
    "                                inner_plasma_gap_radial_thickness = 50,\n",
    "                                plasma_radial_thickness = 100,\n",
    "                                outer_plasma_gap_radial_thickness = 50,\n",
    "                                firstwall_radial_thickness=5,\n",
    "                                blanket_radial_thickness=100,\n",
    "                                blanket_rear_wall_thickness=10,\n",
    "                                elongation=2,\n",
    "                                triangularity=0.55,\n",
    "                                number_of_tf_coils=16,\n",
    "                                rotation_angle=360\n",
    ")\n",
    "\n",
    "my_reactor.export_stp()\n",
    "\n",
    "my_reactor.export_neutronics_description()\n",
    "\n",
    "my_reactor.solid"
   ]
  },
  {
   "cell_type": "markdown",
   "metadata": {},
   "source": [
    "Uses Trelis together with a python script to reading the stp files assign material tags to the volumes and create a watertight h5m DAGMC file which can be used as neutronics geometry."
   ]
  },
  {
   "cell_type": "code",
   "execution_count": null,
   "metadata": {},
   "outputs": [],
   "source": [
    "os.system('trelis -batch -nographics make_faceteted_neutronics_model.py')\n",
    "\n",
    "os.system('make_watertight dagmc_notwatertight.h5m -o dagmc.h5m')"
   ]
  },
  {
   "cell_type": "markdown",
   "metadata": {},
   "source": [
    "Makes and runs a simple OpenMC neutronics model with the materials with the same tags as the DAGMC neutronics geometry. The model also specifies the computational intensity (particles and batches) and the tally to record"
   ]
  },
  {
   "cell_type": "code",
   "execution_count": null,
   "metadata": {},
   "outputs": [],
   "source": [
    "firstwall_mat = Material(material_name='eurofer',\n",
    "                         material_tag='firstwall_material').openmc_material\n",
    "\n",
    "inboard_tf_coils_mat = Material(material_name='WC',\n",
    "                                material_tag='inboard_tf_coils_material').openmc_material\n",
    "\n",
    "center_column_mat = Material(material_name='WC',\n",
    "                            material_tag='center_column_material').openmc_material\n",
    "\n",
    "divertor_mat = Material(material_name='eurofer',\n",
    "                        material_tag='divertor_material').openmc_material\n",
    "\n",
    "blanket_mat = Material(material_name='Li4SiO4',\n",
    "                    enrichment=60,\n",
    "                    material_tag='blanket_material').openmc_material\n",
    "\n",
    "blanket_rear_wall_mat = Material(material_name='eurofer',\n",
    "                         material_tag='blanket_rear_wall_material').openmc_material\n",
    "\n",
    "mats = openmc.Materials([\n",
    "                        firstwall_mat,\n",
    "                        inboard_tf_coils_mat,\n",
    "                        center_column_mat,\n",
    "                        divertor_mat,\n",
    "                        blanket_mat,\n",
    "                        blanket_rear_wall_mat,\n",
    "                        ]\n",
    "                    )"
   ]
  },
  {
   "cell_type": "markdown",
   "metadata": {},
   "source": [
    "This next cell defines the settings, source and tally for the neutronics model then runs the model"
   ]
  },
  {
   "cell_type": "code",
   "execution_count": null,
   "metadata": {},
   "outputs": [],
   "source": [
    "# this is the underlying geometry container that is filled with the faceteted CAD model\n",
    "universe = openmc.Universe()\n",
    "geom = openmc.Geometry(universe)\n",
    "\n",
    "# settings for the number of neutrons to simulate\n",
    "settings = openmc.Settings()\n",
    "settings.batches = 10\n",
    "settings.inactive = 0\n",
    "settings.particles = 100\n",
    "settings.run_mode = 'fixed source'\n",
    "settings.dagmc = True \n",
    "\n",
    "# details of the birth locations and energy of the neutronis\n",
    "source = openmc.Source()\n",
    "source.space = openmc.stats.Point((my_reactor.major_radius, 0, 0))\n",
    "source.angle = openmc.stats.Isotropic()\n",
    "source.energy = openmc.stats.Discrete([14e6], [1])\n",
    "settings.source = source\n",
    "\n",
    "# details about what neutrons interactions to keep track of (called a tally)\n",
    "tallies = openmc.Tallies()\n",
    "material_filter = openmc.MaterialFilter(blanket_mat)\n",
    "tbr_tally = openmc.Tally(name='TBR')\n",
    "tbr_tally.filters = [material_filter]\n",
    "tbr_tally.scores = ['(n,Xt)'] # where X is a wild card\n",
    "tallies.append(tbr_tally)\n",
    "\n",
    "# make the model from gemonetry, materials, settings and tallies\n",
    "model = openmc.model.Model(geom, mats, settings, tallies)\n",
    "\n",
    "# run the simulation\n",
    "output_filename = model.run()"
   ]
  },
  {
   "cell_type": "markdown",
   "metadata": {},
   "source": [
    "Reads the output file from the neutronics simulation and prints the TBR tally result to screen"
   ]
  },
  {
   "cell_type": "code",
   "execution_count": null,
   "metadata": {},
   "outputs": [],
   "source": [
    "# open the results file\n",
    "sp = openmc.StatePoint(output_filename)\n",
    "\n",
    "# access the tally\n",
    "tbr_tally = sp.get_tally(name='TBR')\n",
    "df = tbr_tally.get_pandas_dataframe()\n",
    "tbr_tally_result = df['mean'].sum()\n",
    "\n",
    "# print result\n",
    "print('The tritium breeding ratio was found, TBR = ', tbr_tally_result)\n",
    "# return tbr_tally_result"
   ]
  }
 ],
 "metadata": {
  "kernelspec": {
   "display_name": "Python 3",
   "language": "python",
   "name": "python3"
  },
  "language_info": {
   "codemirror_mode": {
    "name": "ipython",
    "version": 3
   },
   "file_extension": ".py",
   "mimetype": "text/x-python",
   "name": "python",
   "nbconvert_exporter": "python",
   "pygments_lexer": "ipython3",
   "version": "3.7.3"
  }
 },
 "nbformat": 4,
 "nbformat_minor": 4
}
