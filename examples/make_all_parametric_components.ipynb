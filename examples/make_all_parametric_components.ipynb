{
 "cells": [
  {
   "cell_type": "code",
   "execution_count": null,
   "metadata": {},
   "outputs": [],
   "source": [
    "import paramak\n",
    "\n",
    "shape = paramak.Plasma(\n",
    "    # default parameters\n",
    "    rotation_angle = 180\n",
    ")\n",
    "shape.solid"
   ]
  },
  {
   "cell_type": "code",
   "execution_count": null,
   "metadata": {},
   "outputs": [],
   "source": [
    "shape = paramak.BlanketConstantThicknessFP(\n",
    "    plasma=shape,\n",
    "    thickness = 70,\n",
    "    start_angle = 60,\n",
    "    stop_angle = 300,\n",
    "    offset_from_plasma = 20,\n",
    "    rotation_angle = 180\n",
    ")\n",
    "shape.solid"
   ]
  },
  {
   "cell_type": "code",
   "execution_count": null,
   "metadata": {},
   "outputs": [],
   "source": [
    "shape = paramak.CenterColumnShieldCylinder(\n",
    "    inner_radius = 80,\n",
    "    outer_radius = 100,\n",
    "    height = 300,\n",
    "    rotation_angle = 180\n",
    ")\n",
    "shape.solid"
   ]
  },
  {
   "cell_type": "code",
   "execution_count": null,
   "metadata": {},
   "outputs": [],
   "source": [
    "shape = paramak.CenterColumnShieldHyperbola(\n",
    "    inner_radius = 50,\n",
    "    mid_radius = 75,\n",
    "    outer_radius = 100,\n",
    "    height = 300,\n",
    "    rotation_angle = 180\n",
    ")\n",
    "shape.solid"
   ]
  },
  {
   "cell_type": "code",
   "execution_count": null,
   "metadata": {},
   "outputs": [],
   "source": [
    "shape = paramak.CenterColumnShieldCircular(\n",
    "    inner_radius = 50,\n",
    "    mid_radius = 75,\n",
    "    outer_radius = 100,\n",
    "    height = 300,\n",
    "    rotation_angle = 180\n",
    ")\n",
    "shape.solid"
   ]
  },
  {
   "cell_type": "code",
   "execution_count": null,
   "metadata": {},
   "outputs": [],
   "source": [
    "shape = paramak.CenterColumnShieldFlatTopHyperbola(\n",
    "    inner_radius = 50,\n",
    "    mid_radius = 75,\n",
    "    outer_radius = 100,\n",
    "    arc_height = 220,\n",
    "    height = 300,\n",
    "    rotation_angle = 180\n",
    ")\n",
    "shape.solid"
   ]
  },
  {
   "cell_type": "code",
   "execution_count": null,
   "metadata": {},
   "outputs": [],
   "source": [
    "shape = paramak.CenterColumnShieldFlatTopCircular(\n",
    "    inner_radius = 50,\n",
    "    mid_radius = 75,\n",
    "    outer_radius = 100,\n",
    "    arc_height = 220,\n",
    "    height = 300,\n",
    "    rotation_angle = 180\n",
    ")\n",
    "shape.solid"
   ]
  },
  {
   "cell_type": "code",
   "execution_count": null,
   "metadata": {},
   "outputs": [],
   "source": [
    "shape = paramak.CenterColumnShieldPlasmaHyperbola(\n",
    "    inner_radius = 150,\n",
    "    mid_offset = 50,\n",
    "    edge_offset = 40,\n",
    "    height = 800,\n",
    "    rotation_angle = 180\n",
    ")\n",
    "shape.solid"
   ]
  },
  {
   "cell_type": "code",
   "execution_count": null,
   "metadata": {},
   "outputs": [],
   "source": [
    "shape = paramak.InnerTfCoilsCircular(\n",
    "    inner_radius = 25,\n",
    "    outer_radius = 100,\n",
    "    number_of_coils = 10,\n",
    "    gap_size = 5,\n",
    "    height = 300\n",
    ")\n",
    "shape.solid"
   ]
  },
  {
   "cell_type": "code",
   "execution_count": null,
   "metadata": {},
   "outputs": [],
   "source": [
    "shape = paramak.InnerTfCoilsFlat(\n",
    "    inner_radius = 25,\n",
    "    outer_radius = 100,\n",
    "    number_of_coils = 10,\n",
    "    gap_size = 5,\n",
    "    height = 300\n",
    ")\n",
    "shape.solid"
   ]
  },
  {
   "cell_type": "code",
   "execution_count": null,
   "metadata": {},
   "outputs": [],
   "source": [
    "pf_coil = paramak.PoloidalFieldCoil(\n",
    "    center_point = (100, 100),\n",
    "    height = 20,\n",
    "    width = 20,\n",
    "    rotation_angle = 180\n",
    ")\n",
    "pf_coil.solid"
   ]
  },
  {
   "cell_type": "code",
   "execution_count": null,
   "metadata": {},
   "outputs": [],
   "source": [
    "shape = paramak.PoloidalFieldCoilCaseFC(\n",
    "    pf_coil=pf_coil,\n",
    "    casing_thickness = 10,\n",
    "    rotation_angle = 180\n",
    ")\n",
    "shape.solid"
   ]
  },
  {
   "cell_type": "code",
   "execution_count": null,
   "metadata": {},
   "outputs": [],
   "source": [
    "shape = paramak.PoloidalFieldCoilCase(\n",
    "    center_point = (100, 100),\n",
    "    coil_height = 20,\n",
    "    coil_width = 20,\n",
    "    casing_thickness = 10,\n",
    "    rotation_angle = 180\n",
    ")\n",
    "shape.solid"
   ]
  },
  {
   "cell_type": "code",
   "execution_count": null,
   "metadata": {},
   "outputs": [],
   "source": [
    "shape = paramak.BlanketConstantThicknessArcV(\n",
    "                         inner_lower_point=(300,-200),\n",
    "                         inner_mid_point=(500,0),\n",
    "                         inner_upper_point=(300,200),\n",
    "                         thickness=100,\n",
    "                         rotation_angle=40,\n",
    "                         azimuth_placement_angle=[0, 45, 90, 135]\n",
    "                        )\n",
    "shape.solid"
   ]
  },
  {
   "cell_type": "code",
   "execution_count": null,
   "metadata": {},
   "outputs": [],
   "source": [
    "shape = paramak.BlanketConstantThicknessArcH(\n",
    "                         inner_lower_point=(300,-200),\n",
    "                         inner_mid_point=(400,0),\n",
    "                         inner_upper_point=(300,200),\n",
    "                         thickness=100,\n",
    "                         rotation_angle=40,\n",
    "                         azimuth_placement_angle=[0, 45, 90, 135]\n",
    "                        )\n",
    "shape.solid"
   ]
  },
  {
   "cell_type": "code",
   "execution_count": null,
   "metadata": {},
   "outputs": [],
   "source": [
    "shape = paramak.ToroidalFieldCoilRectangle(\n",
    "            inner_upper_point=(100,700),\n",
    "            inner_mid_point=(800,0),\n",
    "            inner_lower_point=(100,-700),\n",
    "            thickness=150,\n",
    "            distance=60,\n",
    "            number_of_coils=6)\n",
    "shape.solid"
   ]
  },
  {
   "cell_type": "code",
   "execution_count": null,
   "metadata": {},
   "outputs": [],
   "source": []
  }
 ],
 "metadata": {
  "kernelspec": {
   "display_name": "Python 3",
   "language": "python",
   "name": "python3"
  },
  "language_info": {
   "codemirror_mode": {
    "name": "ipython",
    "version": 3
   },
   "file_extension": ".py",
   "mimetype": "text/x-python",
   "name": "python",
   "nbconvert_exporter": "python",
   "pygments_lexer": "ipython3",
   "version": "3.7.6"
  }
 },
 "nbformat": 4,
 "nbformat_minor": 4
}
